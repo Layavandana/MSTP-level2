{
 "cells": [
  {
   "cell_type": "markdown",
   "metadata": {},
   "source": [
    "## Regular Expression\n",
    " *syntax : import re*\n",
    "### Methods in regular expression\n",
    "- re.findall()\n",
    "- re.search()\n",
    "- re.match()\n",
    "- re.sub()\n",
    "- re finditer()"
   ]
  },
  {
   "cell_type": "markdown",
   "metadata": {},
   "source": [
    "- set \"[_]\" --> we can insert set of or group of chars,numbers etc.\n",
    "- caret \" ^g\" --> starts with the given letter\n",
    "- Doller \" $ \" --> Ends with the given letter\n",
    "- star \" * \" --> zero  or more occurance\n",
    "- plus \"+\" --> one or more occurance\n",
    "- { } --> Exactly the specefied no.of occurance\n",
    "- \"|\" --> or\n",
    "- \"\\\" --> special sequence\n",
    "-A period\" . \" --> represents a character"
   ]
  },
  {
   "cell_type": "markdown",
   "metadata": {},
   "source": [
    "### Special sequence  \"\\\"\n",
    "- \\A --> character is a begining of string\n",
    "- \\b --> character is at being,ending,middle of the string\n",
    "- \\d --> any digit\n",
    "- \\D --> non-digit\n",
    "- \\s --> it will detect the space\n",
    "- \\S --> except space it will detect all the things means chars,digits,specials\n",
    "- \\w --> alphanumeric\n",
    "- \\W --> non-alphanumeric(Ex:!@#$%^...)\n",
    "                          "
   ]
  },
  {
   "cell_type": "code",
   "execution_count": 3,
   "metadata": {},
   "outputs": [
    {
     "name": "stdout",
     "output_type": "stream",
     "text": [
      "['h', 'e', 'h', 'g', 'a', 'i', 'g', 'l', 'a', 'g', 'a', 'g', 'e']\n"
     ]
    }
   ],
   "source": [
    "# write a program to find the characters berween \"a\" and \"l\".\n",
    "\n",
    "import re\n",
    "s1=\"the python programming language\"\n",
    "s2=re.findall(\"[a-l]\",s1)\n",
    "print(s2)"
   ]
  },
  {
   "cell_type": "code",
   "execution_count": 11,
   "metadata": {},
   "outputs": [
    {
     "name": "stdout",
     "output_type": "stream",
     "text": [
      "['1', '2', '3']\n"
     ]
    }
   ],
   "source": [
    "# write a program to find the digits in a given string\n",
    "import re\n",
    "s1=\"my password is 123\"\n",
    "s2=re.findall(\"\\d\",s1)\n",
    "print(s2)"
   ]
  },
  {
   "cell_type": "code",
   "execution_count": 12,
   "metadata": {},
   "outputs": [
    {
     "name": "stdout",
     "output_type": "stream",
     "text": [
      "['m', 'y', ' ', 'p', 'a', 's', 's', 'w', 'o', 'r', 'd', ' ', 'i', 's', ' ']\n"
     ]
    }
   ],
   "source": [
    "# write a program to find the characters in a given string\n",
    "\n",
    "import re\n",
    "s1=\"my password is 123\"\n",
    "s2=re.findall(\"\\D\",s1)\n",
    "print(s2)"
   ]
  },
  {
   "cell_type": "code",
   "execution_count": 13,
   "metadata": {},
   "outputs": [
    {
     "name": "stdout",
     "output_type": "stream",
     "text": [
      "[' ', ' ', ' ']\n"
     ]
    }
   ],
   "source": [
    "import re\n",
    "s1=\"my password is 123\"\n",
    "s2=re.findall(\"\\s\",s1)\n",
    "print(s2)"
   ]
  },
  {
   "cell_type": "code",
   "execution_count": null,
   "metadata": {},
   "outputs": [],
   "source": []
  }
 ],
 "metadata": {
  "kernelspec": {
   "display_name": "Python 3",
   "language": "python",
   "name": "python3"
  },
  "language_info": {
   "codemirror_mode": {
    "name": "ipython",
    "version": 3
   },
   "file_extension": ".py",
   "mimetype": "text/x-python",
   "name": "python",
   "nbconvert_exporter": "python",
   "pygments_lexer": "ipython3",
   "version": "3.7.3"
  }
 },
 "nbformat": 4,
 "nbformat_minor": 2
}
