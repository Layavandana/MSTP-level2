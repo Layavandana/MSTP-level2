{
 "cells": [
  {
   "cell_type": "markdown",
   "metadata": {},
   "source": [
    "## Print 3-digits numbers Sum - For a given list of numbers, print the sum of all 3-digit numbers.\n",
    "- Input Format \n",
    "- Single line containing a list of space-separated numbers.\n",
    "- Output Format\n",
    "- Print the sum of 3-digit numbers in the given list.\n",
    "- Sample Input Sample Output\n",
    "- 100 200 4 100 400 800"
   ]
  },
  {
   "cell_type": "code",
   "execution_count": 1,
   "metadata": {},
   "outputs": [
    {
     "name": "stdout",
     "output_type": "stream",
     "text": [
      "12 345 4\n",
      "345\n"
     ]
    }
   ],
   "source": [
    "a=input().split()\n",
    "res=0\n",
    "for i in a:\n",
    "    if(len(i)==3):\n",
    "        res=res+int(i)\n",
    "print(res)"
   ]
  },
  {
   "cell_type": "markdown",
   "metadata": {},
   "source": [
    "## You are given a number. You need to print digits of the number in reverse order."
   ]
  },
  {
   "cell_type": "code",
   "execution_count": 2,
   "metadata": {},
   "outputs": [
    {
     "name": "stdout",
     "output_type": "stream",
     "text": [
      "542\n",
      "2\n",
      "4\n",
      "5\n"
     ]
    }
   ],
   "source": [
    "n=int(input())\n",
    "rev=str(n)\n",
    "for i in rev[::-1]:\n",
    "    print(i)"
   ]
  },
  {
   "cell_type": "markdown",
   "metadata": {},
   "source": [
    "### 3.You are given N mobile numbers.\n",
    " ### Print them in the standard format shown below:\n",
    " ### +91 - (XXX)-XXX-XXXX\n",
    "### The given mobile numbers may have +91,91 or 0 written before the actual 10 digit number. Alternatively, there may not be any prefix at all"
   ]
  },
  {
   "cell_type": "code",
   "execution_count": 1,
   "metadata": {},
   "outputs": [
    {
     "name": "stdout",
     "output_type": "stream",
     "text": [
      "1\n",
      "9705741627\n",
      "+91-(970)-574-1627\n"
     ]
    }
   ],
   "source": [
    "t=int(input())\n",
    "for i in range(t):\n",
    "    phonenum=input()\n",
    "    new=phonenum[-10:]\n",
    "    last=\"+91\"+'-('+new[:3]+')-'+new[3:6]+'-'+new[6:]\n",
    "    print(last)"
   ]
  },
  {
   "cell_type": "markdown",
   "metadata": {},
   "source": [
    "## You just need to take a string and a integer as an input and repeat the string up to the count given as in integer"
   ]
  },
  {
   "cell_type": "code",
   "execution_count": 2,
   "metadata": {},
   "outputs": [
    {
     "name": "stdout",
     "output_type": "stream",
     "text": [
      "krupa\n",
      "5\n",
      "krupakrupakrupakrupakrupa\n"
     ]
    }
   ],
   "source": [
    "s=input()\n",
    "n=int(input())\n",
    "print(n*s)"
   ]
  },
  {
   "cell_type": "code",
   "execution_count": null,
   "metadata": {},
   "outputs": [],
   "source": []
  }
 ],
 "metadata": {
  "kernelspec": {
   "display_name": "Python 3",
   "language": "python",
   "name": "python3"
  },
  "language_info": {
   "codemirror_mode": {
    "name": "ipython",
    "version": 3
   },
   "file_extension": ".py",
   "mimetype": "text/x-python",
   "name": "python",
   "nbconvert_exporter": "python",
   "pygments_lexer": "ipython3",
   "version": "3.7.3"
  }
 },
 "nbformat": 4,
 "nbformat_minor": 2
}
