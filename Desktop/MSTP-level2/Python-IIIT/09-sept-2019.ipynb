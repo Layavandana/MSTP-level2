{
 "cells": [
  {
   "cell_type": "markdown",
   "metadata": {},
   "source": [
    "## Conditional statements \n",
    "  if: In a program if the given condition is true it will execute the if body otherwise it will does not go to the if body\n"
   ]
  },
  {
   "cell_type": "code",
   "execution_count": null,
   "metadata": {},
   "outputs": [],
   "source": [
    "marks=int(intput)"
   ]
  },
  {
   "cell_type": "code",
   "execution_count": 1,
   "metadata": {},
   "outputs": [
    {
     "name": "stdout",
     "output_type": "stream",
     "text": [
      "enter a number1\n",
      "odd number\n"
     ]
    }
   ],
   "source": [
    "a=int(input(\"enter a number\"))\n",
    "if(a%2==0):\n",
    "    print(\"even number\")\n",
    "else:\n",
    "    print(\"odd number\")"
   ]
  },
  {
   "cell_type": "code",
   "execution_count": null,
   "metadata": {},
   "outputs": [
    {
     "name": "stdout",
     "output_type": "stream",
     "text": [
      "enter a number2\n"
     ]
    }
   ],
   "source": [
    "a=int(input(\"enter a number\"))\n",
    "b=int(input(\"enter a number\"))\n",
    "c=int(input(\"enter a number\"))\n",
    "if(a>b & a>c):\n",
    "    print(a)\n",
    "else:\n",
    "    if(b>a & b>c):\n",
    "        print(b)\n",
    "    else:\n",
    "        print(c)\n"
   ]
  },
  {
   "cell_type": "markdown",
   "metadata": {},
   "source": [
    "## Tasks"
   ]
  },
  {
   "cell_type": "code",
   "execution_count": null,
   "metadata": {},
   "outputs": [],
   "source": [
    "# Check the given year is a Leap year or not Check if the number exist in a given range (inputs: number(n), range(lower number and upper number) \n",
    "# Check the number of digits in a given number\n",
    "# Check if the given number is a factor of 1000 \n",
    "# Calculate the square root of a given number "
   ]
  },
  {
   "cell_type": "code",
   "execution_count": 1,
   "metadata": {},
   "outputs": [
    {
     "name": "stdout",
     "output_type": "stream",
     "text": [
      "enter a n year :2016\n",
      "enter the lower limit :2000\n",
      "enter the upper limit :2020\n",
      "It is leap year\n"
     ]
    }
   ],
   "source": [
    "# Check the given year is a Leap year or not Check if the number exist in a given range (inputs: number(n), range(lower number and upper number)\n",
    "\n",
    "year=int(input(\"enter a n year :\"))\n",
    "lb=int(input(\"enter the lower limit :\"))\n",
    "ub=int(input(\"enter the upper limit :\"))\n",
    "for year in range(lb,ub+1):\n",
    "    if((year%400==0)|(year%4==0 & year%100!=0)):\n",
    "        print(\"It is leap year\")\n",
    "   "
   ]
  },
  {
   "cell_type": "code",
   "execution_count": 4,
   "metadata": {},
   "outputs": [
    {
     "name": "stdout",
     "output_type": "stream",
     "text": [
      "enter a number12345\n",
      "5\n"
     ]
    }
   ],
   "source": [
    "# Check the number of digits in a given number\n",
    "\n",
    "num=int(input(\"enter a number\"))\n",
    "count=0\n",
    "while(num>0):\n",
    "    count=count+1\n",
    "    num=num//10\n",
    "print(count)"
   ]
  },
  {
   "cell_type": "code",
   "execution_count": 4,
   "metadata": {},
   "outputs": [
    {
     "name": "stdout",
     "output_type": "stream",
     "text": [
      "enter a number125\n",
      "It is the factor of 1000\n"
     ]
    }
   ],
   "source": [
    "# Check if the given number is a factor of 1000\n",
    "\n",
    "n=int(input(\"enter a number\"))\n",
    "if(1000%n==0):\n",
    "        print(\"It is the factor of 1000\")\n",
    "else:\n",
    "    print(\"It is not the factor of 1000\")"
   ]
  },
  {
   "cell_type": "code",
   "execution_count": 11,
   "metadata": {},
   "outputs": [
    {
     "name": "stdout",
     "output_type": "stream",
     "text": [
      "enter a number25\n",
      "5\n"
     ]
    }
   ],
   "source": [
    "# Calculate the square root of a given number \n",
    "import math \n",
    "n=int(input(\"enter a number\"))\n",
    "print(int(math.sqrt(n)))"
   ]
  },
  {
   "cell_type": "markdown",
   "metadata": {},
   "source": [
    "# Iterations/Loops"
   ]
  },
  {
   "cell_type": "code",
   "execution_count": null,
   "metadata": {},
   "outputs": [],
   "source": [
    "range(5) # 0,1,2,3,4\n",
    "range(1,5) # 1,2,3,4"
   ]
  },
  {
   "cell_type": "markdown",
   "metadata": {},
   "source": [
    "## 1) For loop"
   ]
  },
  {
   "cell_type": "code",
   "execution_count": 1,
   "metadata": {},
   "outputs": [
    {
     "name": "stdout",
     "output_type": "stream",
     "text": [
      "0\n",
      "1\n",
      "2\n",
      "3\n",
      "4\n"
     ]
    }
   ],
   "source": [
    "for i in range(5):\n",
    "    print(i)"
   ]
  },
  {
   "cell_type": "code",
   "execution_count": 2,
   "metadata": {},
   "outputs": [
    {
     "name": "stdout",
     "output_type": "stream",
     "text": [
      "h\n",
      "e\n",
      "l\n",
      "l\n",
      "o\n"
     ]
    }
   ],
   "source": [
    "s1=\"hello\"\n",
    "for i in s1:\n",
    "    print(i)"
   ]
  },
  {
   "cell_type": "code",
   "execution_count": 7,
   "metadata": {},
   "outputs": [
    {
     "name": "stdout",
     "output_type": "stream",
     "text": [
      "h,e,l,l,o,"
     ]
    }
   ],
   "source": [
    "for i in s1:\n",
    "    print(i,end=\",\")\n"
   ]
  },
  {
   "cell_type": "code",
   "execution_count": 10,
   "metadata": {},
   "outputs": [
    {
     "name": "stdout",
     "output_type": "stream",
     "text": [
      "h\n",
      ",\n",
      "e\n",
      ",\n",
      "l\n",
      ",\n",
      "l\n",
      ",\n",
      "o\n",
      "o,"
     ]
    }
   ],
   "source": [
    "s1=\"h,e,l,l,o\"\n",
    "for i in s1:\n",
    "    print(i,sep=\",\")"
   ]
  },
  {
   "cell_type": "code",
   "execution_count": 11,
   "metadata": {},
   "outputs": [
    {
     "name": "stdout",
     "output_type": "stream",
     "text": [
      "l,,,a,,,y,,,a,"
     ]
    }
   ],
   "source": [
    "s2=\"l,a,y,a\"\n",
    "for i in s2:\n",
    "    print(i,end=\",\")\n",
    "\n"
   ]
  },
  {
   "cell_type": "code",
   "execution_count": 12,
   "metadata": {},
   "outputs": [
    {
     "name": "stdout",
     "output_type": "stream",
     "text": [
      "12.24\n",
      "12 24\n"
     ]
    }
   ],
   "source": [
    "print(12,24,sep=\".\")\n",
    "print(12,24)"
   ]
  },
  {
   "cell_type": "code",
   "execution_count": 13,
   "metadata": {},
   "outputs": [
    {
     "name": "stdout",
     "output_type": "stream",
     "text": [
      "2 4 6 8 10 "
     ]
    }
   ],
   "source": [
    "for i in range(1,11):\n",
    "    if(i%2==0):\n",
    "        print(i,end=\" \")"
   ]
  },
  {
   "cell_type": "code",
   "execution_count": 18,
   "metadata": {},
   "outputs": [
    {
     "name": "stdout",
     "output_type": "stream",
     "text": [
      "2 5 8 "
     ]
    }
   ],
   "source": [
    "for i in range(2,11,2):\n",
    "    print(i,end=\" \")"
   ]
  },
  {
   "cell_type": "code",
   "execution_count": 19,
   "metadata": {},
   "outputs": [
    {
     "name": "stdout",
     "output_type": "stream",
     "text": [
      "7 14 21 28 35 42 49 56 63 70 77 84 91 98 105 112 119 126 133 140 147 154 161 168 175 182 189 196 203 210 217 224 231 238 245 252 259 266 273 280 287 294 301 308 315 322 329 336 343 350 357 364 371 378 385 392 399 406 413 420 427 434 441 448 455 462 469 476 483 490 497 504 511 518 525 532 539 546 553 560 567 574 581 588 595 602 609 616 623 630 637 644 651 658 665 672 679 686 693 700 707 714 721 728 735 742 749 756 763 770 777 784 791 798 805 812 819 826 833 840 847 854 861 868 875 882 889 896 903 910 917 924 931 938 945 952 959 966 973 980 987 994 "
     ]
    }
   ],
   "source": [
    "for i in range(7,1000,7):\n",
    "    print(i,end=\" \")"
   ]
  },
  {
   "cell_type": "code",
   "execution_count": 20,
   "metadata": {},
   "outputs": [
    {
     "name": "stdout",
     "output_type": "stream",
     "text": [
      "14 , 28 , 42 , 56 , 70 , 84 , 98 , 112 , 126 , 140 , 154 , 168 , 182 , 196 , 210 , 224 , 238 , 252 , 266 , 280 , 294 , 308 , 322 , 336 , 350 , 364 , 378 , 392 , 406 , 420 , 434 , 448 , 462 , 476 , 490 , 504 , 518 , 532 , 546 , 560 , 574 , 588 , 602 , 616 , 630 , 644 , 658 , 672 , 686 , 700 , 714 , 728 , 742 , 756 , 770 , 784 , 798 , 812 , 826 , 840 , 854 , 868 , 882 , 896 , 910 , 924 , 938 , 952 , 966 , 980 , 994 , "
     ]
    }
   ],
   "source": [
    "for i in range(7,1000,7):\n",
    "    if(i%2==0):\n",
    "        print(i,end=\" , \")"
   ]
  },
  {
   "cell_type": "code",
   "execution_count": 26,
   "metadata": {},
   "outputs": [
    {
     "name": "stdout",
     "output_type": "stream",
     "text": [
      "994 , 980 , 966 , 952 , 938 , 924 , 910 , 896 , 882 , 868 , 854 , 840 , 826 , 812 , 798 , 784 , 770 , 756 , 742 , 728 , 714 , 700 , 686 , 672 , 658 , 644 , 630 , 616 , 602 , 588 , 574 , 560 , 546 , 532 , 518 , 504 , 490 , 476 , 462 , 448 , 434 , 420 , 406 , 392 , 378 , 364 , 350 , 336 , 322 , 308 , 294 , 280 , 266 , 252 , 238 , 224 , 210 , 196 , 182 , 168 , 154 , 140 , 126 , 112 , 98 , 84 , 70 , 56 , 42 , 28 , 14 , "
     ]
    }
   ],
   "source": [
    "for i in range(994,6,-7):\n",
    "    if(i%2==0):\n",
    "        print(i,end=\" , \")"
   ]
  },
  {
   "cell_type": "code",
   "execution_count": 27,
   "metadata": {},
   "outputs": [
    {
     "name": "stdout",
     "output_type": "stream",
     "text": [
      "50,52,54,56,58,60,62,64,66,68,70,72,74,76,78,80,82,84,86,88,90,92,94,96,98,"
     ]
    }
   ],
   "source": [
    "for i in range(50,100,2):\n",
    "    print(i,end=\",\")"
   ]
  },
  {
   "cell_type": "code",
   "execution_count": 29,
   "metadata": {
    "scrolled": true
   },
   "outputs": [
    {
     "name": "stdout",
     "output_type": "stream",
     "text": [
      "98 96 94 92 90 88 86 84 82 80 78 76 74 72 70 68 66 64 62 60 58 56 54 52 50 "
     ]
    }
   ],
   "source": [
    "for i in range(98,49,-2):\n",
    "    print(i,end=\" \")"
   ]
  },
  {
   "cell_type": "markdown",
   "metadata": {},
   "source": [
    "## 2)while loop"
   ]
  },
  {
   "cell_type": "code",
   "execution_count": 1,
   "metadata": {},
   "outputs": [
    {
     "name": "stdout",
     "output_type": "stream",
     "text": [
      "0 1 2 3 4 5 6 7 8 9 10 "
     ]
    }
   ],
   "source": [
    "i=0\n",
    "while(i<=10):\n",
    "    print(i,end=\" \")\n",
    "    i=i+1"
   ]
  },
  {
   "cell_type": "code",
   "execution_count": 2,
   "metadata": {},
   "outputs": [
    {
     "name": "stdout",
     "output_type": "stream",
     "text": [
      "99 96 93 90 87 84 81 78 75 72 69 66 63 60 57 54 51 48 45 42 39 36 33 30 27 24 21 18 15 12 9 6 3 "
     ]
    }
   ],
   "source": [
    "#i=99\n",
    "#while(i>=3):\n",
    "   # print(i,end=\" \")\n",
    "    #i=i-3"
   ]
  },
  {
   "cell_type": "code",
   "execution_count": 19,
   "metadata": {},
   "outputs": [
    {
     "name": "stdout",
     "output_type": "stream",
     "text": [
      "laya\n",
      "l\n",
      "a\n",
      "y\n",
      "a\n",
      "l\n",
      "a\n",
      "y\n",
      "a\n",
      "l\n",
      "a\n",
      "y\n",
      "a\n"
     ]
    }
   ],
   "source": [
    "s=input()\n",
    "b=0\n",
    "while(b<len(s)):\n",
    "    print(s[b])\n",
    "    b=b+1"
   ]
  },
  {
   "cell_type": "code",
   "execution_count": 23,
   "metadata": {},
   "outputs": [
    {
     "name": "stdout",
     "output_type": "stream",
     "text": [
      "0 1 2 3 4 5 6 7 8 9 0 1 2 3 4 5 6 7 8 9 0 1 2 3 4 5 6 7 8 9 "
     ]
    }
   ],
   "source": [
    "def sum(n):\n",
    "    #a=int(input())\n",
    "    for i in range(0,n):\n",
    "        print(i,end=\" \")\n",
    "    return\n",
    "sum(10)\n",
    "    \n",
    "    "
   ]
  },
  {
   "cell_type": "code",
   "execution_count": 1,
   "metadata": {},
   "outputs": [
    {
     "name": "stdout",
     "output_type": "stream",
     "text": [
      "0 1 2 3 4 5 6 7 8 9 10 0 1 2 3 4 5 6 7 8 9 10 0 1 2 3 4 5 6 7 8 9 10 "
     ]
    }
   ],
   "source": [
    "def sum(n):\n",
    "    #a=int(input())\n",
    "    i=0\n",
    "    while(i<=n):\n",
    "        print(i,end=\" \")\n",
    "        i=i+1\n",
    "    return\n",
    "sum(10)\n",
    "    \n",
    "    "
   ]
  },
  {
   "cell_type": "markdown",
   "metadata": {},
   "source": [
    "### For loop Tasks"
   ]
  },
  {
   "cell_type": "code",
   "execution_count": 24,
   "metadata": {},
   "outputs": [
    {
     "name": "stdout",
     "output_type": "stream",
     "text": [
      "none\n",
      "none\n",
      "Fizz\n",
      "none\n",
      "Buzz\n",
      "Fizz\n",
      "none\n",
      "none\n",
      "Fizz\n",
      "Buzz\n",
      "none\n",
      "Fizz\n",
      "none\n",
      "none\n",
      "FizzBuzz\n",
      "none\n",
      "none\n",
      "Fizz\n",
      "none\n",
      "Buzz\n",
      "Fizz\n",
      "none\n",
      "none\n",
      "Fizz\n",
      "Buzz\n",
      "none\n",
      "Fizz\n",
      "none\n",
      "none\n",
      "FizzBuzz\n",
      "none\n",
      "none\n",
      "Fizz\n",
      "none\n",
      "Buzz\n",
      "Fizz\n",
      "none\n",
      "none\n",
      "Fizz\n",
      "Buzz\n",
      "none\n",
      "Fizz\n",
      "none\n",
      "none\n",
      "FizzBuzz\n",
      "none\n",
      "none\n",
      "Fizz\n",
      "none\n",
      "Buzz\n"
     ]
    }
   ],
   "source": [
    "# Iterate the integers from 1 to 50, for multiples of 3 print “Fizz” and for multiples of 5 print “Buzz” and for multiples of both 3 and 5 print “FizzBuzz”.\n",
    "for i in range(1,50+1):\n",
    "    if(i%3==0):\n",
    "        if(i%5==0):\n",
    "            print(\"FizzBuzz\")\n",
    "        else:\n",
    "            print(\"Fizz\")\n",
    "    elif(i%5==0):\n",
    "        print(\"Buzz\")\n",
    "    else:\n",
    "        print(\"none\")"
   ]
  },
  {
   "cell_type": "code",
   "execution_count": 29,
   "metadata": {},
   "outputs": [
    {
     "name": "stdout",
     "output_type": "stream",
     "text": [
      "5\n",
      "5 x 10 = 50\n",
      "5 x 11 = 55\n",
      "5 x 12 = 60\n",
      "5 x 13 = 65\n",
      "5 x 14 = 70\n",
      "5 x 15 = 75\n",
      "5 x 16 = 80\n",
      "5 x 17 = 85\n",
      "5 x 18 = 90\n",
      "5 x 19 = 95\n",
      "5 x 20 = 100\n"
     ]
    }
   ],
   "source": [
    "# Program to print the multiplication table from range between 10 to 20  \n",
    "\n",
    "n=int(input())\n",
    "for i in range(10,21):\n",
    "    a=n*i\n",
    "    print(n,'x',i,'=',a)"
   ]
  },
  {
   "cell_type": "markdown",
   "metadata": {},
   "source": [
    "### While loop tasks"
   ]
  },
  {
   "cell_type": "code",
   "execution_count": 1,
   "metadata": {},
   "outputs": [
    {
     "name": "stdout",
     "output_type": "stream",
     "text": [
      "enter a number10\n",
      "1\n",
      "2\n",
      "3\n",
      "4\n",
      "5\n",
      "6\n",
      "7\n",
      "8\n",
      "9\n",
      "10\n"
     ]
    }
   ],
   "source": [
    "# Print n Natural Numbers using while loop\n",
    "n=int(input(\"enter a number\"))\n",
    "i=1\n",
    "while(i<=n):\n",
    "    print(i)\n",
    "    i=i+1    \n"
   ]
  },
  {
   "cell_type": "markdown",
   "metadata": {},
   "source": [
    "### Problem set"
   ]
  },
  {
   "cell_type": "code",
   "execution_count": null,
   "metadata": {},
   "outputs": [],
   "source": [
    "#Function to print reverse of given range in the same line\n",
    "#Function to print the odd numbers in reverse order\n",
    "#Function to calculate the sum of numbers in a range\n",
    "#Function to calculate the average of a given range (1,5) -> 3\n",
    "#Function to generate the sum of factors for a given number 12 -> 1 2 3 4 6 12\n",
    "#Function to check if a given number is Prime\n",
    "#Function to calculate the average of first N Prime numbers\n",
    "#Function to generate all Perfect numbers in a given range\n",
    "#Perfect Number - Sum of all its factors is equal to the number itself\n",
    "#6 - 1, 2, 3\n",
    "#lb, ub"
   ]
  },
  {
   "cell_type": "code",
   "execution_count": 5,
   "metadata": {},
   "outputs": [
    {
     "name": "stdout",
     "output_type": "stream",
     "text": [
      "10\n",
      "10 9 8 7 6 5 4 3 2 1 "
     ]
    }
   ],
   "source": [
    "#Function to print reverse of given range in the same line\n",
    "\n",
    "n=int(input())\n",
    "i=n\n",
    "while(i>=1):\n",
    "      print(i,end=\" \")\n",
    "      i=i-1"
   ]
  },
  {
   "cell_type": "code",
   "execution_count": 1,
   "metadata": {},
   "outputs": [
    {
     "name": "stdout",
     "output_type": "stream",
     "text": [
      "10\n",
      "9 7 5 3 1 "
     ]
    }
   ],
   "source": [
    "#Function to print the odd numbers in reverse order\n",
    "\n",
    "n=int(input())\n",
    "i=n\n",
    "while(i>=1):\n",
    "    if(i%2==1):\n",
    "        print(i,end=\" \")\n",
    "    i=i-1"
   ]
  },
  {
   "cell_type": "code",
   "execution_count": 1,
   "metadata": {},
   "outputs": [
    {
     "name": "stdout",
     "output_type": "stream",
     "text": [
      "10\n",
      "20\n",
      "100\n"
     ]
    }
   ],
   "source": [
    "## Function to calculate the sum of numbers in a range\n",
    "\n",
    "lb=int(input())\n",
    "ub=int(input())\n",
    "sum=0\n",
    "for i in range(lb+1,ub+1):\n",
    "    sum=sum+lb;\n",
    "print(sum)"
   ]
  },
  {
   "cell_type": "code",
   "execution_count": null,
   "metadata": {},
   "outputs": [],
   "source": [
    "## Function to calculate the average of a given range (1,5) -> 3\n",
    "\n",
    "n=int(input())\n",
    "sum=0\n",
    "for i in range(1,n+1):\n",
    "    sum=sum+i\n",
    "print(int(sum/n))\n"
   ]
  },
  {
   "cell_type": "code",
   "execution_count": 9,
   "metadata": {},
   "outputs": [
    {
     "name": "stdout",
     "output_type": "stream",
     "text": [
      "12\n",
      "28\n"
     ]
    }
   ],
   "source": [
    "#Function to generate the sum of factors for a given number 12 -> 1 2 3 4 6 12\n",
    "\n",
    "n=int(input())\n",
    "sum=0\n",
    "for i in range(1,n+1):\n",
    "    if(n%i==0):\n",
    "        sum=sum+i\n",
    "print(sum)\n",
    "\n"
   ]
  },
  {
   "cell_type": "code",
   "execution_count": 2,
   "metadata": {},
   "outputs": [
    {
     "name": "stdout",
     "output_type": "stream",
     "text": [
      "25\n",
      "given number is not a prime\n"
     ]
    }
   ],
   "source": [
    "#Function to check if a given number is Prime\n",
    "\n",
    "n=int(input())\n",
    "count=0\n",
    "for i in range(1,n+1):\n",
    "    if(n%i==0):\n",
    "        count=count+1\n",
    "if(count==2):\n",
    "    print(\"given number is prime\")\n",
    "else:\n",
    "    print(\"given number is not a prime\")\n",
    "        \n",
    "    "
   ]
  },
  {
   "cell_type": "code",
   "execution_count": 5,
   "metadata": {},
   "outputs": [
    {
     "name": "stdout",
     "output_type": "stream",
     "text": [
      "5\n",
      "3\n"
     ]
    }
   ],
   "source": [
    "#Function to calculate the average of first N Prime numbers\n",
    "\n",
    "n=int(input())\n",
    "sum=0\n",
    "for i in range(1,n+1):\n",
    "    sum=sum+i\n",
    "print(int(sum/n))\n"
   ]
  },
  {
   "cell_type": "code",
   "execution_count": 8,
   "metadata": {},
   "outputs": [
    {
     "name": "stdout",
     "output_type": "stream",
     "text": [
      "Enter x: 1\n",
      "\n",
      "Enter y: 20\n",
      "1 6 "
     ]
    }
   ],
   "source": [
    "#Function to generate all Perfect numbers in a given range\n",
    " \n",
    "x = int(input(\"Enter x: \"))\n",
    "y = int(input(\"\\nEnter y: \"))\n",
    "def perfect(x,y):\n",
    "        for each in range(x,y+1):\n",
    "            half = each//2\n",
    "            summ=1\n",
    "            for i in range(2,half+1):\n",
    "                if (each%i)==0:\n",
    "                    summ+=i\n",
    "            if summ==each:\n",
    "            \n",
    "                print(each,end=\" \")\n",
    "perfect(x,y)"
   ]
  },
  {
   "cell_type": "markdown",
   "metadata": {},
   "source": [
    "# "
   ]
  }
 ],
 "metadata": {
  "kernelspec": {
   "display_name": "Python 3",
   "language": "python",
   "name": "python3"
  },
  "language_info": {
   "codemirror_mode": {
    "name": "ipython",
    "version": 3
   },
   "file_extension": ".py",
   "mimetype": "text/x-python",
   "name": "python",
   "nbconvert_exporter": "python",
   "pygments_lexer": "ipython3",
   "version": "3.7.3"
  }
 },
 "nbformat": 4,
 "nbformat_minor": 2
}
