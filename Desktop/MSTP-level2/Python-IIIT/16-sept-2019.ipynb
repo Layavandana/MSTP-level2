{
 "cells": [
  {
   "cell_type": "markdown",
   "metadata": {},
   "source": [
    "## Regular Expression\n",
    " *syntax : import re*\n",
    "### Methods in regular expression\n",
    "- re.findall()\n",
    "- re.search()\n",
    "- re.match()\n",
    "- re.sub()\n",
    "- re finditer()"
   ]
  },
  {
   "cell_type": "markdown",
   "metadata": {},
   "source": [
    "- set \"[_]\" --> we can insert set of or group of chars,numbers etc.\n",
    "- caret \" ^g\" --> starts with the given letter\n",
    "- Doller \" $ \" --> Ends with the given letter\n",
    "- star \" * \" --> zero  or more occurance\n",
    "- plus \"+\" --> one or more occurance\n",
    "- { } --> Exactly the specefied no.of occurance\n",
    "- \"|\" --> or\n",
    "- \"\\\" --> special sequence\n",
    "-A period\" . \" --> represents a character"
   ]
  },
  {
   "cell_type": "markdown",
   "metadata": {},
   "source": [
    "### Special sequence  \"\\\"\n",
    "- \\A --> character is a begining of string\n",
    "- \\b --> character is at being,ending,middle of the string\n",
    "- \\d --> any digit\n",
    "- \\D --> non-digit\n",
    "- \\s --> it will detect the space\n",
    "- \\S --> except space it will detect all the things means chars,digits,specials\n",
    "- \\w --> alphanumeric\n",
    "- \\W --> non-alphanumeric(Ex:!@#$%^...)\n",
    "                          "
   ]
  },
  {
   "cell_type": "code",
   "execution_count": 3,
   "metadata": {},
   "outputs": [
    {
     "name": "stdout",
     "output_type": "stream",
     "text": [
      "['h', 'e', 'h', 'g', 'a', 'i', 'g', 'l', 'a', 'g', 'a', 'g', 'e']\n"
     ]
    }
   ],
   "source": [
    "# write a program to find the characters berween \"a\" and \"l\".\n",
    "\n",
    "import re\n",
    "s1=\"the python programming language\"\n",
    "s2=re.findall(\"[a-l]\",s1)\n",
    "print(s2)"
   ]
  },
  {
   "cell_type": "code",
   "execution_count": 11,
   "metadata": {},
   "outputs": [
    {
     "name": "stdout",
     "output_type": "stream",
     "text": [
      "['1', '2', '3']\n"
     ]
    }
   ],
   "source": [
    "# write a program to find the digits in a given string\n",
    "import re\n",
    "s1=\"my password is 123\"\n",
    "s2=re.findall(\"\\d\",s1)\n",
    "print(s2)"
   ]
  },
  {
   "cell_type": "code",
   "execution_count": 12,
   "metadata": {},
   "outputs": [
    {
     "name": "stdout",
     "output_type": "stream",
     "text": [
      "['m', 'y', ' ', 'p', 'a', 's', 's', 'w', 'o', 'r', 'd', ' ', 'i', 's', ' ']\n"
     ]
    }
   ],
   "source": [
    "# write a program to find the characters in a given string\n",
    "\n",
    "import re\n",
    "s1=\"my password is 123\"\n",
    "s2=re.findall(\"\\D\",s1)\n",
    "print(s2)"
   ]
  },
  {
   "cell_type": "code",
   "execution_count": 14,
   "metadata": {},
   "outputs": [
    {
     "name": "stdout",
     "output_type": "stream",
     "text": [
      "[' ', ' ', ' ']\n"
     ]
    }
   ],
   "source": [
    "import re\n",
    "s1=\"my password is 123\"\n",
    "s2=re.findall(\"\\s\",s1)\n",
    "print(s2)"
   ]
  },
  {
   "cell_type": "code",
   "execution_count": 15,
   "metadata": {},
   "outputs": [
    {
     "name": "stdout",
     "output_type": "stream",
     "text": [
      "['m', 'y', 'p', 'a', 's', 's', 'w', 'o', 'r', 'd', 'i', 's', '1', '2', '3']\n"
     ]
    }
   ],
   "source": [
    "import re\n",
    "s1=\"my password is 123\"\n",
    "s2=re.findall(\"\\S\",s1)\n",
    "print(s2)"
   ]
  },
  {
   "cell_type": "code",
   "execution_count": 16,
   "metadata": {},
   "outputs": [
    {
     "name": "stdout",
     "output_type": "stream",
     "text": [
      "['m', 'y', 'p', 'a', 's', 's', 'w', 'o', 'r', 'd', 'i', 's', '1', '2', '3']\n"
     ]
    }
   ],
   "source": [
    "import re\n",
    "s1=\"my password is 123\"\n",
    "s2=re.findall(\"\\w\",s1)\n",
    "print(s2)"
   ]
  },
  {
   "cell_type": "code",
   "execution_count": 19,
   "metadata": {},
   "outputs": [
    {
     "name": "stdout",
     "output_type": "stream",
     "text": [
      "[' ', ' ', ' ']\n"
     ]
    }
   ],
   "source": [
    "import re\n",
    "s1=\"my password is 123\"\n",
    "s2=re.findall(\"\\W\",s1)\n",
    "print(s2)"
   ]
  },
  {
   "cell_type": "code",
   "execution_count": 27,
   "metadata": {},
   "outputs": [
    {
     "name": "stdout",
     "output_type": "stream",
     "text": [
      "['progr']\n"
     ]
    }
   ],
   "source": [
    "# take a string which contains more than 10 characters,print 5 characters in that string\n",
    "\n",
    "import re\n",
    "s1=\"programming\"\n",
    "s2=re.findall(\"p....\",s1)\n",
    "#s2=re.findall(\"^p{5}\",s1)\n",
    "print(s2)"
   ]
  },
  {
   "cell_type": "code",
   "execution_count": 1,
   "metadata": {},
   "outputs": [
    {
     "name": "stdout",
     "output_type": "stream",
     "text": [
      "652098589578996069\n"
     ]
    },
    {
     "data": {
      "text/plain": [
       "True"
      ]
     },
     "execution_count": 1,
     "metadata": {},
     "output_type": "execute_result"
    }
   ],
   "source": [
    "# phone number validator\n",
    "import re\n",
    "def phoneNumValidator(number):\n",
    "    p='[6-9][0-9]{9}|[+][9][1][6-9][0-9]{9}'\n",
    "    if re.match(p,str(number)):\n",
    "        return True\n",
    "    else:\n",
    "        False\n",
    "number=int(input())\n",
    "phoneNumValidator(number)\n"
   ]
  },
  {
   "cell_type": "code",
   "execution_count": 2,
   "metadata": {},
   "outputs": [
    {
     "name": "stdout",
     "output_type": "stream",
     "text": [
      ":python:programming:language::and::raptor:flowchart\n"
     ]
    }
   ],
   "source": [
    "# re.sub() method\n",
    "### syntax : re.sub(\"value to be remove\",\"value to be added\",variable)\n",
    "### write a program to replace white space with colon\":\"\n",
    "\n",
    "import re\n",
    "s=\" python programming language  and  raptor flowchart\"\n",
    "s1=re.sub('\\s',':',s)\n",
    "print(s1)"
   ]
  },
  {
   "cell_type": "code",
   "execution_count": 9,
   "metadata": {},
   "outputs": [
    {
     "name": "stdout",
     "output_type": "stream",
     "text": [
      "pythonprogramminglanguageandraptorflowchart\n"
     ]
    }
   ],
   "source": [
    "import re\n",
    "s=\" python programming language  and  raptor flowchart\"\n",
    "s1=re.sub(\"\\s\",'',s)\n",
    "print(s1)"
   ]
  },
  {
   "cell_type": "code",
   "execution_count": 11,
   "metadata": {},
   "outputs": [
    {
     "name": "stdout",
     "output_type": "stream",
     "text": [
      "ryali.laya@gmail.com\n"
     ]
    }
   ],
   "source": [
    "# Email validator\n",
    "import re\n",
    "def EmailCheck(email):\n",
    "    p='^[a-z][0-9a-z.]{5,15}[@][0-9a-z]{3,8}[.][a-z]{2,4}[.][a-z]{2,4}$'\n",
    "    if re.match(p,str(email)):\n",
    "        return True\n",
    "    else:\n",
    "        False\n",
    "email=input()\n",
    "EmailCheck(email)"
   ]
  },
  {
   "cell_type": "code",
   "execution_count": null,
   "metadata": {},
   "outputs": [],
   "source": []
  }
 ],
 "metadata": {
  "kernelspec": {
   "display_name": "Python 3",
   "language": "python",
   "name": "python3"
  },
  "language_info": {
   "codemirror_mode": {
    "name": "ipython",
    "version": 3
   },
   "file_extension": ".py",
   "mimetype": "text/x-python",
   "name": "python",
   "nbconvert_exporter": "python",
   "pygments_lexer": "ipython3",
   "version": "3.7.3"
  }
 },
 "nbformat": 4,
 "nbformat_minor": 2
}
