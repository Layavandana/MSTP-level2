{
 "cells": [
  {
   "cell_type": "markdown",
   "metadata": {},
   "source": [
    "## Dictionaries"
   ]
  },
  {
   "cell_type": "code",
   "execution_count": 3,
   "metadata": {},
   "outputs": [
    {
     "data": {
      "text/plain": [
       "10"
      ]
     },
     "execution_count": 3,
     "metadata": {},
     "output_type": "execute_result"
    }
   ],
   "source": [
    "list1=[10,20,30]\n",
    "list1[0]"
   ]
  },
  {
   "cell_type": "code",
   "execution_count": 7,
   "metadata": {},
   "outputs": [
    {
     "data": {
      "text/plain": [
       "20"
      ]
     },
     "execution_count": 7,
     "metadata": {},
     "output_type": "execute_result"
    }
   ],
   "source": [
    "dict1={}\n",
    "dict1={'key1':10,'key2':20}\n",
    "dict1['key2']"
   ]
  },
  {
   "cell_type": "code",
   "execution_count": 10,
   "metadata": {},
   "outputs": [
    {
     "name": "stdout",
     "output_type": "stream",
     "text": [
      "10\n",
      "value3\n"
     ]
    }
   ],
   "source": [
    "dict1={'key1':'value1','key2':'value2','key3':'value3'}\n",
    "dict2={1:10,2:20,3:30}\n",
    "print(dict2[1])\n",
    "print(dict1['key3'])"
   ]
  },
  {
   "cell_type": "markdown",
   "metadata": {},
   "source": [
    "### Dictionary Methods"
   ]
  },
  {
   "cell_type": "markdown",
   "metadata": {},
   "source": [
    "get()"
   ]
  },
  {
   "cell_type": "code",
   "execution_count": 11,
   "metadata": {},
   "outputs": [
    {
     "data": {
      "text/plain": [
       "200"
      ]
     },
     "execution_count": 11,
     "metadata": {},
     "output_type": "execute_result"
    }
   ],
   "source": [
    "dict1={'k1':100,'k2':200,'k3':300}\n",
    "dict2=dict1.get('k2')\n",
    "dict2"
   ]
  },
  {
   "cell_type": "markdown",
   "metadata": {},
   "source": [
    "keys(),values() and items()"
   ]
  },
  {
   "cell_type": "code",
   "execution_count": 12,
   "metadata": {},
   "outputs": [
    {
     "data": {
      "text/plain": [
       "dict_keys(['k1', 'k2', 'k3'])"
      ]
     },
     "execution_count": 12,
     "metadata": {},
     "output_type": "execute_result"
    }
   ],
   "source": [
    "dict1.keys()"
   ]
  },
  {
   "cell_type": "code",
   "execution_count": 13,
   "metadata": {},
   "outputs": [
    {
     "data": {
      "text/plain": [
       "dict_values([100, 200, 300])"
      ]
     },
     "execution_count": 13,
     "metadata": {},
     "output_type": "execute_result"
    }
   ],
   "source": [
    "dict1.values()"
   ]
  },
  {
   "cell_type": "code",
   "execution_count": 14,
   "metadata": {},
   "outputs": [
    {
     "data": {
      "text/plain": [
       "dict_items([('k1', 100), ('k2', 200), ('k3', 300)])"
      ]
     },
     "execution_count": 14,
     "metadata": {},
     "output_type": "execute_result"
    }
   ],
   "source": [
    "dict1.items()"
   ]
  },
  {
   "cell_type": "markdown",
   "metadata": {},
   "source": [
    "update(),setdefault(),copy()"
   ]
  },
  {
   "cell_type": "code",
   "execution_count": 20,
   "metadata": {},
   "outputs": [],
   "source": [
    "#update()\n",
    "student={'name':'laya','ID':661,'branch':'CSE','age':'20'}\n",
    "student.update({'age':21})"
   ]
  },
  {
   "cell_type": "code",
   "execution_count": 21,
   "metadata": {},
   "outputs": [
    {
     "data": {
      "text/plain": [
       "{'name': 'laya', 'ID': 661, 'branch': 'CSE', 'age': 21}"
      ]
     },
     "execution_count": 21,
     "metadata": {},
     "output_type": "execute_result"
    }
   ],
   "source": [
    "student"
   ]
  },
  {
   "cell_type": "code",
   "execution_count": 22,
   "metadata": {},
   "outputs": [
    {
     "data": {
      "text/plain": [
       "{'name': 'laya', 'ID': 661, 'branch': 'CSE', 'age': 21, 'phone no': 9999999999}"
      ]
     },
     "execution_count": 22,
     "metadata": {},
     "output_type": "execute_result"
    }
   ],
   "source": [
    "student.update({\"phone no\":9999999999})\n",
    "student"
   ]
  },
  {
   "cell_type": "code",
   "execution_count": 25,
   "metadata": {},
   "outputs": [
    {
     "data": {
      "text/plain": [
       "21"
      ]
     },
     "execution_count": 25,
     "metadata": {},
     "output_type": "execute_result"
    }
   ],
   "source": [
    "#setdefault()\n",
    "student.setdefault('age',20)"
   ]
  },
  {
   "cell_type": "code",
   "execution_count": 26,
   "metadata": {},
   "outputs": [],
   "source": [
    "#copy()\n",
    "student1=student.copy()"
   ]
  },
  {
   "cell_type": "code",
   "execution_count": 27,
   "metadata": {},
   "outputs": [
    {
     "data": {
      "text/plain": [
       "{'name': 'laya', 'ID': 661, 'branch': 'CSE', 'age': 21, 'phone no': 9999999999}"
      ]
     },
     "execution_count": 27,
     "metadata": {},
     "output_type": "execute_result"
    }
   ],
   "source": [
    "student1"
   ]
  },
  {
   "cell_type": "markdown",
   "metadata": {},
   "source": [
    "popitem() ,pop(),clear()"
   ]
  },
  {
   "cell_type": "code",
   "execution_count": 1,
   "metadata": {},
   "outputs": [
    {
     "data": {
      "text/plain": [
       "{1: 'a', 2: 'b'}"
      ]
     },
     "execution_count": 1,
     "metadata": {},
     "output_type": "execute_result"
    }
   ],
   "source": [
    "d={1:'a',2:'b',3:'c'}\n",
    "d.popitem()\n",
    "d"
   ]
  },
  {
   "cell_type": "code",
   "execution_count": 2,
   "metadata": {},
   "outputs": [
    {
     "data": {
      "text/plain": [
       "'a'"
      ]
     },
     "execution_count": 2,
     "metadata": {},
     "output_type": "execute_result"
    }
   ],
   "source": [
    "d.pop(1)"
   ]
  },
  {
   "cell_type": "code",
   "execution_count": 3,
   "metadata": {},
   "outputs": [
    {
     "data": {
      "text/plain": [
       "{2: 'b'}"
      ]
     },
     "execution_count": 3,
     "metadata": {},
     "output_type": "execute_result"
    }
   ],
   "source": [
    "d"
   ]
  },
  {
   "cell_type": "code",
   "execution_count": 4,
   "metadata": {},
   "outputs": [],
   "source": [
    "d.clear()"
   ]
  },
  {
   "cell_type": "code",
   "execution_count": 5,
   "metadata": {},
   "outputs": [
    {
     "data": {
      "text/plain": [
       "{}"
      ]
     },
     "execution_count": 5,
     "metadata": {},
     "output_type": "execute_result"
    }
   ],
   "source": [
    "d"
   ]
  },
  {
   "cell_type": "code",
   "execution_count": 6,
   "metadata": {},
   "outputs": [],
   "source": [
    "d1={'name1':'laya','name2':'vandana','name3':'satya'}\n",
    "d2={'pin1':123,'pin2':245,'pin3':126}\n",
    "d1.update(d2)"
   ]
  },
  {
   "cell_type": "code",
   "execution_count": 7,
   "metadata": {},
   "outputs": [
    {
     "data": {
      "text/plain": [
       "{'name1': 'laya',\n",
       " 'name2': 'vandana',\n",
       " 'name3': 'satya',\n",
       " 'pin1': 123,\n",
       " 'pin2': 245,\n",
       " 'pin3': 126}"
      ]
     },
     "execution_count": 7,
     "metadata": {},
     "output_type": "execute_result"
    }
   ],
   "source": [
    "d1"
   ]
  },
  {
   "cell_type": "markdown",
   "metadata": {},
   "source": [
    "## Tasks"
   ]
  },
  {
   "cell_type": "code",
   "execution_count": 19,
   "metadata": {},
   "outputs": [
    {
     "name": "stdout",
     "output_type": "stream",
     "text": [
      "{'name1': 'laya', 'name2': 'vandana', 'name3': 'satya', 'pin1': 123, 'pin2': 245, 'pin3': 126, 'branch1': 'CSE', 'branch2': 'ECE', 'branch3': 'CIVIL', 'E1': 2016, 'E2': 2017, 'E3': 2018}\n"
     ]
    }
   ],
   "source": [
    "# Write a python program to merge four dictionaries into one dictionary\n",
    "\n",
    "d1={'name1':'laya','name2':'vandana','name3':'satya'}\n",
    "d2={'pin1':123,'pin2':245,'pin3':126}\n",
    "d3={'branch1':'CSE','branch2':'ECE','branch3':'CIVIL'}\n",
    "d4={'E1':2016,'E2':2017,'E3':2018}\n",
    "d5={}\n",
    "for key in d1,d2,d3,d4:\n",
    "    d5.update(key)\n",
    "print(d5)\n",
    "#d5.update(d1)\n",
    "#d5.update(d2)\n",
    "#d5.update(d3)\n",
    "#d5.update(d4)\n"
   ]
  },
  {
   "cell_type": "code",
   "execution_count": 11,
   "metadata": {},
   "outputs": [
    {
     "data": {
      "text/plain": [
       "{'name1': 'laya',\n",
       " 'name2': 'vandana',\n",
       " 'name3': 'satya',\n",
       " 'pin1': 123,\n",
       " 'pin2': 245,\n",
       " 'pin3': 126,\n",
       " 'branch1': 'CSE',\n",
       " 'branch2': 'ECE',\n",
       " 'branch3': 'CIVIL',\n",
       " 'E1': 2016,\n",
       " 'E2': 2017,\n",
       " 'E3': 2018}"
      ]
     },
     "execution_count": 11,
     "metadata": {},
     "output_type": "execute_result"
    }
   ],
   "source": [
    "d5"
   ]
  },
  {
   "cell_type": "markdown",
   "metadata": {},
   "source": []
  },
  {
   "cell_type": "code",
   "execution_count": 13,
   "metadata": {},
   "outputs": [
    {
     "name": "stdout",
     "output_type": "stream",
     "text": [
      "contact is added\n"
     ]
    }
   ],
   "source": [
    "# Build a contact application and check whether the contact is added or not.\n",
    "\n",
    "contacts={}\n",
    "def addContacts(name,phone):\n",
    "    if name not in contacts:\n",
    "        contacts[name]=phone\n",
    "        print('contact is added')\n",
    "    else:\n",
    "        print('contact is already existed')\n",
    "    return\n",
    "addContacts('laya',9999999999)\n",
    "\n",
    "\n",
    "        \n"
   ]
  },
  {
   "cell_type": "code",
   "execution_count": 27,
   "metadata": {},
   "outputs": [
    {
     "data": {
      "text/plain": [
       "{'laya': 9999999999}"
      ]
     },
     "execution_count": 27,
     "metadata": {},
     "output_type": "execute_result"
    }
   ],
   "source": [
    "contacts"
   ]
  },
  {
   "cell_type": "code",
   "execution_count": 14,
   "metadata": {},
   "outputs": [
    {
     "name": "stdout",
     "output_type": "stream",
     "text": [
      "contact is added\n",
      "contact is added\n",
      "contact is added\n",
      "8888888888 contact is existed\n"
     ]
    }
   ],
   "source": [
    "# Write a python program to search for the contacts in contact application.\n",
    "\n",
    "contacts={}\n",
    "def addContacts(name,phone):\n",
    "    if name not in contacts:\n",
    "        contacts[name]=phone\n",
    "        print('contact is added')\n",
    "    else:\n",
    "        print('contact is already existed')\n",
    "    return\n",
    "def search(name):\n",
    "    if name in contacts:\n",
    "        print(contacts[name],\"contact is existed\")\n",
    "    else:\n",
    "        print(\"contact is not existed\")\n",
    "\n",
    "addContacts('laya',9999999999)\n",
    "addContacts('sai',8888888888)\n",
    "addContacts('vandana',7777777777)\n",
    "search('sai')\n",
    "\n"
   ]
  },
  {
   "cell_type": "code",
   "execution_count": 32,
   "metadata": {},
   "outputs": [
    {
     "name": "stdout",
     "output_type": "stream",
     "text": [
      "1 : ['laya', 'cse']\n",
      "2 : ['krupa', 'ece']\n",
      "3 : ['saya', 'civil']\n"
     ]
    }
   ],
   "source": [
    "# Take a dictionary of keys and list of values. print the output as follows\n",
    "    #key1 : ['name1' , 'branch1']\n",
    "    #key2 : ['name2' , 'branch2']\n",
    "    \n",
    "students={1:['laya','cse'],2:['krupa','ece'],3:['saya','civil']}\n",
    "for key in students:\n",
    "    print(key,':',students[key])"
   ]
  },
  {
   "cell_type": "code",
   "execution_count": 33,
   "metadata": {},
   "outputs": [
    {
     "name": "stdout",
     "output_type": "stream",
     "text": [
      "1 : ['laya', 'cse']\n",
      "2 : ['krupa', 'ece']\n",
      "3 : ['saya', 'civil']\n"
     ]
    }
   ],
   "source": [
    "# another way \n",
    "students={1:['laya','cse'],2:['krupa','ece'],3:['saya','civil']}\n",
    "for key,value in students.items():\n",
    "    print(key,':',value)"
   ]
  },
  {
   "cell_type": "code",
   "execution_count": 38,
   "metadata": {},
   "outputs": [
    {
     "name": "stdout",
     "output_type": "stream",
     "text": [
      "{1: 2, 2: 3, 3: 4, 4: 5, 5: 6, 6: 7, 7: 8, 8: 9, 9: 10, 10: 11}\n"
     ]
    }
   ],
   "source": [
    "d={}\n",
    "for i in range(1,11):\n",
    "    d[i]=i+1\n",
    "print(d)"
   ]
  },
  {
   "cell_type": "code",
   "execution_count": 42,
   "metadata": {},
   "outputs": [
    {
     "name": "stdout",
     "output_type": "stream",
     "text": [
      "1000\n",
      "333.3333333333333\n"
     ]
    }
   ],
   "source": [
    "# Write a python program to print sum and average of values in dictionary.\n",
    "\n",
    "d1={'n1':100,'n2':200,'n3':700}\n",
    "sum=0\n",
    "count=0\n",
    "for key in d1:\n",
    "    count=count+1\n",
    "    sum=sum+d1[key]\n",
    "print(sum)\n",
    "print(sum/count)\n",
    "    "
   ]
  },
  {
   "cell_type": "code",
   "execution_count": 16,
   "metadata": {},
   "outputs": [
    {
     "name": "stdout",
     "output_type": "stream",
     "text": [
      "10 : 100\n",
      "10 : 200\n",
      "10 : 300\n",
      "20 : 100\n",
      "20 : 200\n",
      "20 : 300\n",
      "30 : 100\n",
      "30 : 200\n",
      "30 : 300\n"
     ]
    }
   ],
   "source": [
    "list1=[10,20,30]\n",
    "list2=[100,200,300]\n",
    "d={}\n",
    "for keys in list1:\n",
    "    for values in list2:\n",
    "        print(keys,':',values)\n",
    "    "
   ]
  },
  {
   "cell_type": "code",
   "execution_count": null,
   "metadata": {},
   "outputs": [],
   "source": [
    "n={[\"hai\"],[\"hello\"],[\"how\"]}\n",
    "print(n)"
   ]
  },
  {
   "cell_type": "code",
   "execution_count": null,
   "metadata": {},
   "outputs": [],
   "source": []
  },
  {
   "cell_type": "code",
   "execution_count": null,
   "metadata": {},
   "outputs": [],
   "source": []
  }
 ],
 "metadata": {
  "kernelspec": {
   "display_name": "Python 3",
   "language": "python",
   "name": "python3"
  },
  "language_info": {
   "codemirror_mode": {
    "name": "ipython",
    "version": 3
   },
   "file_extension": ".py",
   "mimetype": "text/x-python",
   "name": "python",
   "nbconvert_exporter": "python",
   "pygments_lexer": "ipython3",
   "version": "3.7.3"
  }
 },
 "nbformat": 4,
 "nbformat_minor": 2
}
